{
  "nbformat": 4,
  "nbformat_minor": 0,
  "metadata": {
    "colab": {
      "provenance": [],
      "mount_file_id": "1_CffPBGzAK-RmmxV8dA4puCTYilMDL0a",
      "authorship_tag": "ABX9TyMI38ve5gHyO0GMgeZKVI/G",
      "include_colab_link": true
    },
    "kernelspec": {
      "name": "python3",
      "display_name": "Python 3"
    },
    "language_info": {
      "name": "python"
    }
  },
  "cells": [
    {
      "cell_type": "markdown",
      "metadata": {
        "id": "view-in-github",
        "colab_type": "text"
      },
      "source": [
        "<a href=\"https://colab.research.google.com/github/BrunaMoraisMenezesDSM/fatec_PLN_Codes/blob/master/Aula%206%20-%20Representa%C3%A7%C3%A3o%20de%20texto%20com%20Embeddings/%5BPLN%5DAula_6.ipynb\" target=\"_parent\"><img src=\"https://colab.research.google.com/assets/colab-badge.svg\" alt=\"Open In Colab\"/></a>"
      ]
    },
    {
      "cell_type": "markdown",
      "source": [
        "#Aula 06 - Representação de texto com Embeddings\n",
        "\n",
        "## Exemplo 01 - Word2Vec"
      ],
      "metadata": {
        "id": "a_DiDmRdToB6"
      }
    },
    {
      "cell_type": "code",
      "execution_count": 2,
      "metadata": {
        "colab": {
          "base_uri": "https://localhost:8080/"
        },
        "id": "XjwpiHKn3K9C",
        "outputId": "6ce4b101-1b25-4119-e934-192496c24d53"
      },
      "outputs": [
        {
          "output_type": "stream",
          "name": "stdout",
          "text": [
            "Similaridade entre 'cachorro' e 'gato': 0.13149002\n"
          ]
        }
      ],
      "source": [
        "# importação da ferramenta de vetorização\n",
        "from gensim.models import Word2Vec\n",
        "\n",
        "# texto a ser analisado\n",
        "corpus = [\n",
        "    [\"o\", \"cachorro\", \"está\", \"latindo\"],\n",
        "    [\"o\", \"gato\", \"está\", \"miando\"]\n",
        "]\n",
        "\n",
        "# realizar o treinamento das palavras\n",
        "model = Word2Vec(sentences=corpus, vector_size=100, window=5, min_count=1, sg=1)\n",
        "  # sentences -- indicar o texto a ser analisado.\n",
        "  # window -- faixa de palavras (antes e depois) que serão analisadas\n",
        "  # vector_size -- Dimensão do vetor\n",
        "  # min_count=1\n",
        "  #sg - representa o modelo a ser utiizado\n",
        "    # 0 - CBOW: busca a palavra a partir do contexto\n",
        "    # 1 - Skip-gram: busco o contexto a partir da palavr\n",
        "\n",
        "# vetorização da palavra desejada\n",
        "vector = model.wv['cachorro']\n",
        "\n",
        "# comparação de vetores.\n",
        "similarity = model.wv.similarity('cachorro', 'gato')\n",
        "\n",
        "# impressão do resultado\n",
        "print(\"Similaridade entre 'cachorro' e 'gato':\", similarity)"
      ]
    },
    {
      "cell_type": "code",
      "source": [
        "from gensim.models import Word2Vec\n",
        "\n",
        "corpus = [\n",
        "    [\"o\", \"cachorro\", \"está\", \"latindo\", \"no\", \"quintal\"],\n",
        "    [\"o\", \"gato\", \"está\", \"miando\", \"no\", \"telhado\"],\n",
        "    [\"o\", \"pássaro\", \"está\", \"voando\", \"no\", \"céu\"],\n",
        "    [\"a\", \"bola\", \"está\", \"rolando\", \"no\", \"chão\"],\n",
        "    [\"a\", \"criança\", \"está\", \"brincando\", \"com\", \"o\", \"cachorro\"],\n",
        "    [\"o\", \"gato\", \"e\", \"o\", \"rato\", \"são\", \"inimigos\"],\n",
        "    [\"a\", \"água\", \"está\", \"quente\", \"na\", \"caneca\"],\n",
        "    [\"o\", \"sol\", \"está\", \"brilhando\", \"no\", \"céu\"],\n",
        "    [\"a\", \"lua\", \"está\", \"cheia\", \"hoje\"],\n",
        "    [\"a\", \"computador\", \"está\", \"ligado\", \"na\", \"mesa\"]\n",
        "]\n",
        "\n",
        "model = Word2Vec(sentences=corpus, vector_size=100, window=5, min_count=1, sg=1)\n",
        "\n",
        "# Calculando a similaridade entre palavras\n",
        "print(f\"Similaridade entre cachorro e gato: {model.wv.similarity('cachorro', 'gato')}\")\n",
        "print(f\"Similaridade entre cachorro e bola: {model.wv.similarity('cachorro', 'bola')}\")\n",
        "print(f\"Similaridade entre céu e lua: {model.wv.similarity('céu', 'lua')}\")\n",
        "print(f\"Similaridade entre computador e mesa: {model.wv.similarity('computador', 'mesa')}\")"
      ],
      "metadata": {
        "colab": {
          "base_uri": "https://localhost:8080/"
        },
        "id": "QukeUM1mC2To",
        "outputId": "69a3ad98-37ab-43dd-f5d6-e4b5931d4215"
      },
      "execution_count": 3,
      "outputs": [
        {
          "output_type": "stream",
          "name": "stdout",
          "text": [
            "Similaridade entre cachorro e gato: -0.027537165209650993\n",
            "Similaridade entre cachorro e bola: 0.08071544766426086\n",
            "Similaridade entre céu e lua: 0.16293543577194214\n",
            "Similaridade entre computador e mesa: 0.037479717284440994\n"
          ]
        }
      ]
    },
    {
      "cell_type": "markdown",
      "source": [
        "`glove_path = \"/content/drive/MyDrive/glove.6B.100d.txt\"`"
      ],
      "metadata": {
        "id": "drCs5ermTzhh"
      }
    },
    {
      "cell_type": "markdown",
      "source": [
        "## Exemplo 2 - Glove"
      ],
      "metadata": {
        "id": "pwilK9BrUPp5"
      }
    },
    {
      "cell_type": "code",
      "source": [
        "# importação da biblioteca\n",
        "from gensim.models import KeyedVectors\n",
        "\n",
        "# indicação do caminho do arquivo\n",
        "glove_path = \"/content/drive/MyDrive/glove.6B.100d.txt\"\n",
        "\n",
        "# acesso ao modelo treinado (instanciação)\n",
        "glove_model = KeyedVectors.load_word2vec_format(glove_path, binary=False, no_header=True)\n",
        "  # glove_path - caminho do arquivo com o modelo treinado\n",
        "  # binary - Arquivo em texto (False)\n",
        "  # no_header - ignorar o cabeçalho\n",
        "\n",
        "# método para acessar a similaridade de duas palavras dentro do modelo treinado\n",
        "similaridade = glove_model.similarity('king', 'queen')\n",
        "print(\"Similaridade entre 'king' e 'queen': \", similaridade)\n",
        "\n",
        "# método de proximidade para uma determinada palavra \"KING\"\n",
        "palavras_proximas = glove_model.most_similar('king')\n",
        "print(\"Palavras próximas de 'king': \", palavras_proximas)"
      ],
      "metadata": {
        "colab": {
          "base_uri": "https://localhost:8080/"
        },
        "id": "FJxutV0XSWDc",
        "outputId": "b35f5178-cfb7-4edb-ed36-bb12460aca0d"
      },
      "execution_count": 4,
      "outputs": [
        {
          "output_type": "stream",
          "name": "stdout",
          "text": [
            "Similaridade entre 'king' e 'queen':  0.7507691\n",
            "Palavras próximas de 'king':  [('prince', 0.7682328820228577), ('queen', 0.7507690787315369), ('son', 0.7020888328552246), ('brother', 0.6985775232315063), ('monarch', 0.6977890729904175), ('throne', 0.6919989585876465), ('kingdom', 0.6811409592628479), ('father', 0.6802029013633728), ('emperor', 0.6712858080863953), ('ii', 0.6676074266433716)]\n"
          ]
        }
      ]
    },
    {
      "cell_type": "markdown",
      "source": [
        "## Exemplo 3 - FastText"
      ],
      "metadata": {
        "id": "2C-CXg5RXzrz"
      }
    },
    {
      "cell_type": "code",
      "source": [
        "# importação das funcionalidades\n",
        "from gensim.models import fasttext\n",
        "from gensim.models import KeyedVectors\n",
        "\n",
        "# caminho do arquivo\n",
        "fasttext_path = '/content/drive/MyDrive/cc.pt.300.vec'\n",
        "# instanciação do objeto\n",
        "fasttext_model = KeyedVectors.load_word2vec_format(fasttext_path, binary=False)\n",
        "\n",
        "# calculo de proximidade\n",
        "similaridade = fasttext_model.similarity('gato','gatinhos')\n",
        "print(f\"Similaridade entre 'gato' e 'gatinho': {similaridade:.4f}\")\n",
        "\n",
        "# calculo das palavras mais próximas\n",
        "palavras_proximas = fasttext_model.most_similar('gato')\n",
        "print(\"Palavras mais próximas de 'gato': \")\n",
        "for palavra, score in palavras_proximas:\n",
        "  print(f\"{palavra}: {score:.4f}\")"
      ],
      "metadata": {
        "colab": {
          "base_uri": "https://localhost:8080/"
        },
        "id": "6kVgkC9VXs8j",
        "outputId": "80eb5054-8c5f-4484-cd34-a4fc6a3d42bc"
      },
      "execution_count": 5,
      "outputs": [
        {
          "output_type": "stream",
          "name": "stdout",
          "text": [
            "Similaridade entre 'gato' e 'gatinho': 0.5815\n",
            "Palavras mais próximas de 'gato': \n",
            "gatinho: 0.8185\n",
            "cão: 0.7903\n",
            "cachorro: 0.7688\n",
            "gatoO: 0.7448\n",
            "felino: 0.7386\n",
            "cãozinho: 0.7356\n",
            "cachorrinho: 0.7047\n",
            "gato.O: 0.7008\n",
            "gatoe: 0.6934\n",
            "bichinho: 0.6690\n"
          ]
        }
      ]
    }
  ]
}