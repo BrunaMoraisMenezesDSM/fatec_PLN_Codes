{
  "nbformat": 4,
  "nbformat_minor": 0,
  "metadata": {
    "colab": {
      "provenance": [],
      "authorship_tag": "ABX9TyM68yyqxiFtGoMU8og8F785",
      "include_colab_link": true
    },
    "kernelspec": {
      "name": "python3",
      "display_name": "Python 3"
    },
    "language_info": {
      "name": "python"
    }
  },
  "cells": [
    {
      "cell_type": "markdown",
      "metadata": {
        "id": "view-in-github",
        "colab_type": "text"
      },
      "source": [
        "<a href=\"https://colab.research.google.com/github/BrunaMoraisMenezesDSM/fatec_PLN_Codes/blob/master/Aula%205%20-%20Representa%C3%A7%C3%A3o%20de%20texto/%5BPLN%5DAula_5.ipynb\" target=\"_parent\"><img src=\"https://colab.research.google.com/assets/colab-badge.svg\" alt=\"Open In Colab\"/></a>"
      ]
    },
    {
      "cell_type": "markdown",
      "source": [
        "# Aula 5 - Representação de texto\n",
        "## Exemplo 1 - Implementando o BoW"
      ],
      "metadata": {
        "id": "_HvamlJiaxl4"
      }
    },
    {
      "cell_type": "code",
      "source": [
        "# importação das ferramentas a serem utilizadas\n",
        "from sklearn.feature_extraction.text import CountVectorizer\n",
        "\n",
        "# criando um documento com vários textos\n",
        "documentos = [\n",
        "    \"gato e cachorro\",\n",
        "    \"gato brinca com cachorro\",\n",
        "    \"gato e rato\"\n",
        "]\n",
        "\n",
        "vectorizer = CountVectorizer()\n",
        "\n",
        "X = vectorizer.fit_transform(documentos)\n",
        "  # fit >> cria uma lista com cada palavra que existe no texto\n",
        "  # transform >> transforma as palavras em um vetor\n",
        "\n",
        "print(\"Matriz BoW: \", X.toarray())\n",
        "\n",
        "print(f\"Vocabulário: {vectorizer.vocabulary_}\")"
      ],
      "metadata": {
        "colab": {
          "base_uri": "https://localhost:8080/"
        },
        "id": "MaJp0IW2azk_",
        "outputId": "f1b28ad0-4bd3-423e-dfbb-473f90560c5d"
      },
      "execution_count": null,
      "outputs": [
        {
          "output_type": "stream",
          "name": "stdout",
          "text": [
            "Matriz BoW:  [[0 1 0 1 0]\n",
            " [1 1 1 1 0]\n",
            " [0 0 0 1 1]]\n",
            "Vocabulário: {'gato': 3, 'cachorro': 1, 'brinca': 0, 'com': 2, 'rato': 4}\n"
          ]
        }
      ]
    },
    {
      "cell_type": "markdown",
      "source": [
        "## Exemplo 2 - Implementando o BOW junto com TF-IDF"
      ],
      "metadata": {
        "id": "_sW4xlc9SM_d"
      }
    },
    {
      "cell_type": "code",
      "source": [
        "# importação das ferramentas que serão utilizadas\n",
        "from sklearn.feature_extraction.text import CountVectorizer #BoW\n",
        "from sklearn.feature_extraction.text import TfidfVectorizer # TF-IDF\n",
        "  # Term Frequency - Inverse Document Frequency >>> frequência ponderada\n",
        "\n",
        "documentos = [\n",
        "    \"O cachorro gosta de passear no parque\",\n",
        "    \"O gato dorme no sofá o dia todo\",\n",
        "    \"Cachorros e gatos podem ser bons amigos\"\n",
        "]\n",
        "\n",
        "# Vetorização pelo BoW\n",
        "vectorizer_bow = CountVectorizer() # instância da ferramenta\n",
        "X_bow = vectorizer_bow.fit_transform(documentos) # vetorização do texto\n",
        "\n",
        "# impressão do vetor e da matriz\n",
        "print(f\"Vocabulário BoW: {vectorizer_bow.vocabulary_}\")\n",
        "print(\"Matrix BoW:\")\n",
        "print(X_bow.toarray())\n",
        "\n",
        "# Vetorização TF-IDF\n",
        "vectorizer_tfidf = TfidfVectorizer() # instânciação da classe\n",
        "X_tfidf = vectorizer_tfidf.fit_transform(documentos) # vetorização\n",
        "  # fit\n",
        "  # transform\n",
        "\n",
        "#impressão dos vetores com frequência ponderada\n",
        "print(f\"\\nVocabulário TF-IDF: {vectorizer_tfidf.vocabulary_}\")\n",
        "print(\"Matriz TF-IDF\")\n",
        "print(X_tfidf.toarray())"
      ],
      "metadata": {
        "colab": {
          "base_uri": "https://localhost:8080/"
        },
        "id": "2G1fOPHWiNU_",
        "outputId": "fb5506bd-2f5d-40c0-e46a-d535da6c0987"
      },
      "execution_count": null,
      "outputs": [
        {
          "output_type": "stream",
          "name": "stdout",
          "text": [
            "Vocabulário BoW: {'cachorro': 2, 'gosta': 9, 'de': 4, 'passear': 12, 'no': 10, 'parque': 11, 'gato': 7, 'dorme': 6, 'sofá': 15, 'dia': 5, 'todo': 16, 'cachorros': 3, 'gatos': 8, 'podem': 13, 'ser': 14, 'bons': 1, 'amigos': 0}\n",
            "Matrix BoW:\n",
            "[[0 0 1 0 1 0 0 0 0 1 1 1 1 0 0 0 0]\n",
            " [0 0 0 0 0 1 1 1 0 0 1 0 0 0 0 1 1]\n",
            " [1 1 0 1 0 0 0 0 1 0 0 0 0 1 1 0 0]]\n",
            "\n",
            "Vocabulário TF-IDF: {'cachorro': 2, 'gosta': 9, 'de': 4, 'passear': 12, 'no': 10, 'parque': 11, 'gato': 7, 'dorme': 6, 'sofá': 15, 'dia': 5, 'todo': 16, 'cachorros': 3, 'gatos': 8, 'podem': 13, 'ser': 14, 'bons': 1, 'amigos': 0}\n",
            "Matriz TF-IDF\n",
            "[[0.         0.         0.42339448 0.         0.42339448 0.\n",
            "  0.         0.         0.         0.42339448 0.32200242 0.42339448\n",
            "  0.42339448 0.         0.         0.         0.        ]\n",
            " [0.         0.         0.         0.         0.         0.42339448\n",
            "  0.42339448 0.42339448 0.         0.         0.32200242 0.\n",
            "  0.         0.         0.         0.42339448 0.42339448]\n",
            " [0.40824829 0.40824829 0.         0.40824829 0.         0.\n",
            "  0.         0.         0.40824829 0.         0.         0.\n",
            "  0.         0.40824829 0.40824829 0.         0.        ]]\n"
          ]
        }
      ]
    },
    {
      "cell_type": "markdown",
      "source": [
        "## Exemplo 3 - Aula 4 e aula 5\n",
        "Exemplo de pré processamento e representação de texto com:\n",
        "*   Limpeza de dados: removendo caracteres indesejados e normalizando o texto.\n",
        "*   Tokenização: dividindo o texto em palavras individuais.\n",
        "*   Remoção de StopWords:eliminando palavras comuns que não carregam significado semântico importante.\n",
        "*   Lematização: reduzindo as palavras à sua forma base.\n",
        "*   Representação de texto: convertendo o texto processado em uma matriz numérica usando o modelo Bag of Words.\n",
        "\n"
      ],
      "metadata": {
        "id": "XX9bnAJkSVyF"
      }
    },
    {
      "cell_type": "code",
      "source": [
        "# importação das bibliotecas\n",
        "import nltk\n",
        "import re\n",
        "from nltk.corpus import stopwords\n",
        "from nltk.tokenize import word_tokenize\n",
        "from nltk.stem import WordNetLemmatizer\n",
        "from sklearn.feature_extraction.text import CountVectorizer\n",
        "\n",
        "# donwload dos pacotes necessários\n",
        "nltk.download('punkt')\n",
        "nltk.download('stopwords')\n",
        "nltk.download('stopwords')\n",
        "nltk.download('wordnet')\n",
        "nltk.download('omw-1.4')\n",
        "\n",
        "# criação dos documentos com vários textos\n",
        "documentos = [\n",
        "  \"Os cachorros são animais muito amigáveis e leais!\",\n",
        "  \"Eu gosto de gatos porque eles são independentes e fofos.\",\n",
        "  \"Cachorros e gatos podem ser ótimos animais de estimaçãos. \"\n",
        "]\n",
        "\n",
        "# inicialização do lematizador e lista de StopWords em português\n",
        "lemmatizer = WordNetLemmatizer()\n",
        "stop_words = set (stopwords. words (\"portuguese\"))\n",
        "\n",
        "# criação de uma função para pré processamento do texto\n",
        "def preprocessar_texto(texto):\n",
        "  texto = re. sub(r'[^a-zA-Zá-ÿ\\s]','',texto)\n",
        "  tokens_tudo = word_tokenize(texto.lower())\n",
        "  tokens = [palavra for palavra in tokens_tudo if palavra not in stop_words]\n",
        "  tokens_lema = [lemmatizer. lemmatize(palavra) for palavra in tokens]\n",
        "  return ' '. join(tokens_lema)\n",
        "\n",
        "# aplicando o pré processamento nos documentos\n",
        "documentos_processados = [preprocessar_texto(doc) for doc in documentos]\n",
        "\n",
        "# exibindo os documentos processados\n",
        "print ('documentos Pré-processados:')\n",
        "for i, doc in enumerate (documentos_processados) :\n",
        "  print (f\"Documento {i + 1}: {doc}\")\n",
        "\n",
        "# transformando documentos processados em uma matriz BoW\n",
        "vectorizer = CountVectorizer()\n",
        "X_bow = vectorizer. fit_transform(documentos_processados)\n",
        "print(\"\\nVocabulario BoW:\", vectorizer. vocabulary_)\n",
        "print (\"Matriz BoW:\")\n",
        "print (X_bow.toarray())"
      ],
      "metadata": {
        "id": "wFStGpIZ14lc",
        "colab": {
          "base_uri": "https://localhost:8080/"
        },
        "outputId": "60bc6d79-23e1-4885-8b53-1205bf891513"
      },
      "execution_count": 5,
      "outputs": [
        {
          "output_type": "stream",
          "name": "stderr",
          "text": [
            "[nltk_data] Downloading package punkt_tab to /root/nltk_data...\n",
            "[nltk_data]   Unzipping tokenizers/punkt_tab.zip.\n",
            "[nltk_data] Downloading package punkt to /root/nltk_data...\n",
            "[nltk_data]   Package punkt is already up-to-date!\n",
            "[nltk_data] Downloading package stopwords to /root/nltk_data...\n",
            "[nltk_data]   Package stopwords is already up-to-date!\n",
            "[nltk_data] Downloading package stopwords to /root/nltk_data...\n",
            "[nltk_data]   Package stopwords is already up-to-date!\n",
            "[nltk_data] Downloading package wordnet to /root/nltk_data...\n",
            "[nltk_data]   Package wordnet is already up-to-date!\n",
            "[nltk_data] Downloading package omw-1.4 to /root/nltk_data...\n",
            "[nltk_data]   Package omw-1.4 is already up-to-date!\n"
          ]
        },
        {
          "output_type": "stream",
          "name": "stdout",
          "text": [
            "documentos Pré-processados:\n",
            "Documento 1: cachorros animais amigáveis leais\n",
            "Documento 2: gosto gatos porque independentes fofos\n",
            "Documento 3: cachorros gatos podem ótimos animais estimaçãos\n",
            "\n",
            "Vocabulario BoW: {'cachorros': 2, 'animais': 1, 'amigáveis': 0, 'leais': 8, 'gosto': 6, 'gatos': 5, 'porque': 10, 'independentes': 7, 'fofos': 4, 'podem': 9, 'ótimos': 11, 'estimaçãos': 3}\n",
            "Matriz BoW:\n",
            "[[1 1 1 0 0 0 0 0 1 0 0 0]\n",
            " [0 0 0 0 1 1 1 1 0 0 1 0]\n",
            " [0 1 1 1 0 1 0 0 0 1 0 1]]\n"
          ]
        }
      ]
    }
  ]
}